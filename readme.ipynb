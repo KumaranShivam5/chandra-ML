{
 "cells": [
  {
   "cell_type": "markdown",
   "metadata": {},
   "source": [
    "# Chandra-ML"
   ]
  },
  {
   "cell_type": "code",
   "execution_count": 6,
   "metadata": {},
   "outputs": [],
   "source": [
    "import numpy as np \n",
    "from matplotlib import pyplot as plt \n",
    "import pandas as pd \n",
    "%load_ext autoreload\n",
    "%autoreload 2"
   ]
  },
  {
   "cell_type": "markdown",
   "metadata": {},
   "source": [
    "# Data"
   ]
  },
  {
   "cell_type": "code",
   "execution_count": 7,
   "metadata": {},
   "outputs": [],
   "source": [
    "from utilities import deets\n",
    "from choices import get_train_data , param_dict"
   ]
  },
  {
   "cell_type": "markdown",
   "metadata": {},
   "source": [
    "Using the function _get_train_data_ in the module _choices_, we load the training data. Using the _id_frame.csv_ files the data is filtered as per the filtering provided as the argument in the _get_train_data_ function"
   ]
  },
  {
   "cell_type": "code",
   "execution_count": 8,
   "metadata": {},
   "outputs": [
    {
     "name": "stdout",
     "output_type": "stream",
     "text": [
      "_____________________________________________________\n",
      "------------------------------\n",
      "Number of Objects : 7703\n",
      "Number of Columns : 42\n",
      "_____________________________________________________\n"
     ]
    }
   ],
   "source": [
    "# file = f'../compiled_data_v3/imputed_data_v2/x_phot_minmax_modeimp.csv'\n",
    "# Select the classes to load\n",
    "classes = ['AGN' ,'STAR' , 'YSO' ,  'CV' , 'LMXB' , 'HMXB' ,'ULX','PULSAR']\n",
    "\n",
    "# flag filtering\n",
    "flag = {\n",
    "    'conf_flag' : 0 , \n",
    "    'streak_src_flag' : 0 , \n",
    "    'extent_flag' : 0 , \n",
    "    'pileup_flag' : 0 , \n",
    "    }\n",
    "# Load data\n",
    "data = get_train_data(flags = flag, classes= classes , offset = 1,)\n",
    "\n",
    "#drop some features\n",
    "feat_to_drop = param_dict['hardness']+param_dict['IRAC']\n",
    "data = data.drop(columns = feat_to_drop)\n",
    "\n",
    "# see data details\n",
    "deets(df = data,class_info = 0, dsp = 0)"
   ]
  },
  {
   "cell_type": "markdown",
   "metadata": {},
   "source": [
    "# Model Training and Validation"
   ]
  },
  {
   "cell_type": "markdown",
   "metadata": {},
   "source": [
    "### Import _make_model_ class\n",
    "The class _make_model_ is takes in the training data, a classification model(scickit-learn compatible model). This class is can be used to validate the model using CCV method and to train and save the classifier for implementation on the test data."
   ]
  },
  {
   "cell_type": "code",
   "execution_count": 9,
   "metadata": {},
   "outputs": [],
   "source": [
    "import nbconvert"
   ]
  },
  {
   "cell_type": "code",
   "execution_count": 16,
   "metadata": {},
   "outputs": [],
   "source": [
    "from utilities_v2 import make_model"
   ]
  },
  {
   "cell_type": "markdown",
   "metadata": {},
   "source": [
    "### Build the Model: _make_model_ class"
   ]
  },
  {
   "cell_type": "markdown",
   "metadata": {},
   "source": [
    "_make_model_ takes in the following components\n",
    "*   name : user defined name of the model (can be any string)\n",
    "*   train_data : as pandas dataframe\n",
    "*   label : class label for the training data (list or pandas series)\n",
    "*   classifier : classifier model\n",
    "*   oversamples : Oversampling function like Scickit-Learn's _SMOTE_ object."
   ]
  },
  {
   "cell_type": "markdown",
   "metadata": {},
   "source": [
    "#### Data\n",
    "the class _make_model_ takes in training data and the training label as pandas dataframe"
   ]
  },
  {
   "cell_type": "code",
   "execution_count": 11,
   "metadata": {},
   "outputs": [],
   "source": [
    "# Example Implementation ####################\n",
    "x = data.drop(columns=['class'])\n",
    "y = data['class']"
   ]
  },
  {
   "cell_type": "markdown",
   "metadata": {},
   "source": [
    "#### Classifier\n",
    "\n",
    "Next we will use a classifier from scickit-learn _RandomForestClassifier_ \n",
    "\n",
    "The user can supply their own classifier for the _make_model_ object with only condition that the classifier must implement the _fit_ function. (Need not worry, as most of the models in Scickit-Learn always implement the _fit_ function)\n",
    "\n",
    "<small>Note: the parameters we are giving for the model that we are giving here is optained after hyper-parameter tuning of the model.</small>"
   ]
  },
  {
   "cell_type": "code",
   "execution_count": 12,
   "metadata": {},
   "outputs": [],
   "source": [
    "# Create a new make_model object\n",
    "from sklearn.ensemble import RandomForestClassifier\n",
    "clf = RandomForestClassifier(n_estimators=400 , max_depth=30 , random_state=np.random.randint(0,999999))"
   ]
  },
  {
   "cell_type": "markdown",
   "metadata": {},
   "source": [
    "#### Oversampler"
   ]
  },
  {
   "cell_type": "code",
   "execution_count": 13,
   "metadata": {},
   "outputs": [],
   "source": [
    "from imblearn.over_sampling import SMOTE\n",
    "oversampler = SMOTE(k_neighbors=4)"
   ]
  },
  {
   "cell_type": "markdown",
   "metadata": {},
   "source": [
    "#### Put everything together "
   ]
  },
  {
   "cell_type": "code",
   "execution_count": 18,
   "metadata": {},
   "outputs": [],
   "source": [
    "model = make_model(model_name = 'test_model', classifier=clf, oversampler = oversampler, train_data = x, label=y)"
   ]
  },
  {
   "cell_type": "markdown",
   "metadata": {},
   "source": [
    "### Validate the Model"
   ]
  },
  {
   "cell_type": "markdown",
   "metadata": {},
   "source": [
    "the object _make_model_ implements *validate* function ehich performs the Cumultive K fold cross validation for the supplied model and for the given data"
   ]
  },
  {
   "cell_type": "code",
   "execution_count": 19,
   "metadata": {},
   "outputs": [
    {
     "name": "stdout",
     "output_type": "stream",
     "text": [
      "[INFO] >>> Doing 2 fold cross-validation\n",
      "[INFO] >>> Using 8 CPU cores\n"
     ]
    },
    {
     "data": {
      "text/plain": [
       "<utilities_v2.make_model at 0x7fa1abe20898>"
      ]
     },
     "execution_count": 19,
     "metadata": {},
     "output_type": "execute_result"
    }
   ],
   "source": [
    "model.validate(save_predictions=True, multiprocessing=True, k_fold=2)"
   ]
  },
  {
   "cell_type": "markdown",
   "metadata": {},
   "source": [
    "Let us see the validation result\n",
    "\n",
    "The validation results are stored in the attribute _validation_model_ of the _make_model_ object"
   ]
  },
  {
   "cell_type": "code",
   "execution_count": 20,
   "metadata": {},
   "outputs": [
    {
     "name": "stdout",
     "output_type": "stream",
     "text": [
      "Confusion Matrix: \n",
      "['AGN', 'CV', 'HMXB', 'LMXB', 'PULSAR', 'STAR', 'ULX', 'YSO']\n",
      "[[2197    7  102    0   13   18   56    2]\n",
      " [  11   33   29    2   28   42    7   14]\n",
      " [  33   15  557    4   11   32   88    8]\n",
      " [   4    8    5  106    2    8    4    6]\n",
      " [   2   18   17    0   32   11    9   12]\n",
      " [  35   34   33    7   19 2572    6   84]\n",
      " [  15    6   59    3    7    3  118    0]\n",
      " [   2   14    8    4   19   50    2 1050]]\n",
      "Overall Scores: \n",
      "{'balanced_accuracy': 0.6642261754119165, 'accuracy': 0.8652473062443204, 'precision': 0.8727987144236677, 'recall': 0.8652473062443204, 'f1': 0.8682408798541683, 'mcc': 0.8190420660929271}\n",
      "Class-Wise scores: \n",
      "        recall_score  precision_score  f1_score\n",
      "class                                          \n",
      "AGN         0.917328         0.955633  0.936089\n",
      "CV          0.198795         0.244444  0.219269\n",
      "HMXB        0.744652         0.687654  0.715019\n",
      "LMXB        0.741259         0.841270  0.788104\n",
      "PULSAR      0.316832         0.244275  0.275862\n",
      "STAR        0.921864         0.940058  0.930872\n",
      "ULX         0.559242         0.406897  0.471058\n",
      "YSO         0.913838         0.892857  0.903226\n"
     ]
    }
   ],
   "source": [
    "# Print validation result\n",
    "print(\"Confusion Matrix: \")\n",
    "print(model.validation_score['class_labels'])\n",
    "print(model.validation_score['confusion_matrix'])\n",
    "print(\"Overall Scores: \")\n",
    "print(model.validation_score['overall_scores'])\n",
    "print(\"Class-Wise scores: \")\n",
    "print(model.validation_score['class_wise_scores'])"
   ]
  },
  {
   "cell_type": "markdown",
   "metadata": {},
   "source": [
    "### Train the model\n",
    "\n",
    "Now the above validation function can be used by varying the classifier parameters and then checking the validation result as per the user requirement, and once the results are satisfactoory, the user call the _train_ function of the _make_model_ object which will train and store the supplied classifier. for training, unlike the cross validation where a fraction of th data is used, here the classifier is trained on the entire dataset."
   ]
  },
  {
   "cell_type": "code",
   "execution_count": 22,
   "metadata": {},
   "outputs": [
    {
     "data": {
      "text/plain": [
       "<utilities_v2.make_model at 0x7fa1abe20898>"
      ]
     },
     "execution_count": 22,
     "metadata": {},
     "output_type": "execute_result"
    }
   ],
   "source": [
    "model.train()"
   ]
  },
  {
   "cell_type": "markdown",
   "metadata": {},
   "source": [
    "### Save the Model\n",
    "\n",
    "Next we will use the _save_ function of the object _make_model_ to save the classifier alongwith the validation scores and predictions on the training data"
   ]
  },
  {
   "cell_type": "code",
   "execution_count": 23,
   "metadata": {},
   "outputs": [],
   "source": [
    "model.save('model_filename.joblib')"
   ]
  },
  {
   "cell_type": "code",
   "execution_count": null,
   "metadata": {},
   "outputs": [],
   "source": []
  }
 ],
 "metadata": {
  "kernelspec": {
   "display_name": "Python 3.6.9 64-bit",
   "language": "python",
   "name": "python3"
  },
  "language_info": {
   "codemirror_mode": {
    "name": "ipython",
    "version": 3
   },
   "file_extension": ".py",
   "mimetype": "text/x-python",
   "name": "python",
   "nbconvert_exporter": "python",
   "pygments_lexer": "ipython3",
   "version": "3.6.9"
  },
  "orig_nbformat": 4,
  "vscode": {
   "interpreter": {
    "hash": "31f2aee4e71d21fbe5cf8b01ff0e069b9275f58929596ceb00d14d90e3e16cd6"
   }
  }
 },
 "nbformat": 4,
 "nbformat_minor": 2
}
