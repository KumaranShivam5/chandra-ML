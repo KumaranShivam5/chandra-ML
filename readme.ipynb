{
 "cells": [
  {
   "cell_type": "markdown",
   "metadata": {},
   "source": [
    "# Imports"
   ]
  },
  {
   "cell_type": "code",
   "execution_count": 3,
   "metadata": {},
   "outputs": [],
   "source": [
    "import numpy as np \n",
    "from matplotlib import pyplot as plt \n",
    "import pandas as pd \n",
    "%load_ext autoreload\n",
    "%autoreload 2"
   ]
  },
  {
   "cell_type": "markdown",
   "metadata": {},
   "source": [
    "# Load Training data"
   ]
  },
  {
   "cell_type": "code",
   "execution_count": 4,
   "metadata": {},
   "outputs": [],
   "source": [
    "from utilities import deets\n",
    "from choices import get_train_data , param_dict"
   ]
  },
  {
   "cell_type": "markdown",
   "metadata": {},
   "source": [
    "Using the function _get_train_data_ in the module _choices_, we load the training data. Using the _id_frame.csv_ files the data is filtered as per the filtering provided as the argument in the _get_train_data_ function"
   ]
  },
  {
   "cell_type": "code",
   "execution_count": 5,
   "metadata": {},
   "outputs": [
    {
     "name": "stdout",
     "output_type": "stream",
     "text": [
      "_____________________________________________________\n",
      "------------------------------\n",
      "Number of Objects : 7703\n",
      "Number of Columns : 42\n",
      "_____________________________________________________\n"
     ]
    }
   ],
   "source": [
    "# file = f'../compiled_data_v3/imputed_data_v2/x_phot_minmax_modeimp.csv'\n",
    "# Select the classes to load\n",
    "classes = ['AGN' ,'STAR' , 'YSO' ,  'CV' , 'LMXB' , 'HMXB' ,'ULX','PULSAR']\n",
    "\n",
    "# flag filtering\n",
    "flag = {\n",
    "    'conf_flag' : 0 , \n",
    "    'streak_src_flag' : 0 , \n",
    "    'extent_flag' : 0 , \n",
    "    'pileup_flag' : 0 , \n",
    "    }\n",
    "# Load data\n",
    "data = get_train_data(flags = flag, classes= classes , offset = 1,)\n",
    "\n",
    "#drop some features\n",
    "feat_to_drop = param_dict['hardness']+param_dict['IRAC']\n",
    "data = data.drop(columns = feat_to_drop)\n",
    "\n",
    "# see data details\n",
    "deets(df = data,class_info = 0, dsp = 0)"
   ]
  },
  {
   "cell_type": "markdown",
   "metadata": {},
   "source": [
    "# Model Training and Validation"
   ]
  },
  {
   "cell_type": "markdown",
   "metadata": {},
   "source": [
    "### Import _make_model_ class\n",
    "The class _make_model_ is takes in the training data, a classification model(scickit-learn compatible model). This class is can be used to validate the model using CCV method and to train and save the classifier for implementation on the test data."
   ]
  },
  {
   "cell_type": "code",
   "execution_count": 3,
   "metadata": {},
   "outputs": [],
   "source": [
    "import nbconvert"
   ]
  },
  {
   "cell_type": "code",
   "execution_count": 1,
   "metadata": {},
   "outputs": [],
   "source": [
    "from utilities_v2 import make_model"
   ]
  },
  {
   "cell_type": "markdown",
   "metadata": {},
   "source": [
    "### Components for the _make_model_ object"
   ]
  },
  {
   "cell_type": "markdown",
   "metadata": {},
   "source": [
    "_make_model_ takes in the following components\n",
    "*   name : user defined name of the model (can be any string)\n",
    "*   train_data : as pandas dataframe\n",
    "*   label : class label for the training data (list or pandas series)\n",
    "*   classifier : classifier model\n",
    "*   oversamples : Oversampling function like Scickit-Learn's _SMOTE_ object."
   ]
  },
  {
   "cell_type": "markdown",
   "metadata": {},
   "source": [
    "#### Data\n",
    "the class _make_model_ takes in training data and the training label as pandas dataframe"
   ]
  },
  {
   "cell_type": "code",
   "execution_count": 6,
   "metadata": {},
   "outputs": [],
   "source": [
    "# Example Implementation ####################\n",
    "x = data.drop(columns=['class'])\n",
    "y = data['class']"
   ]
  },
  {
   "cell_type": "markdown",
   "metadata": {},
   "source": [
    "#### Classifier\n",
    "\n",
    "Next we will use a classifier from scickit-learn _RandomForestClassifier_ \n",
    "\n",
    "The user can supply their own classifier for the _make_model_ object with only condition that the classifier must implement the _fit_ function. (Need not worry, as most of the models in Scickit-Learn always implement the _fit_ function)\n",
    "\n",
    "<small>Note: the parameters we are giving for the model that we are giving here is optained after hyper-parameter tuning of the model.</small>"
   ]
  },
  {
   "cell_type": "code",
   "execution_count": 7,
   "metadata": {},
   "outputs": [],
   "source": [
    "# Create a new make_model object\n",
    "from sklearn.ensemble import RandomForestClassifier\n",
    "clf = RandomForestClassifier(n_estimators=400 , max_depth=30 , random_state=np.random.randint(0,999999))"
   ]
  },
  {
   "cell_type": "markdown",
   "metadata": {},
   "source": [
    "#### Oversampler"
   ]
  },
  {
   "cell_type": "code",
   "execution_count": 1,
   "metadata": {},
   "outputs": [],
   "source": [
    "from imblearn.over_sampling import SMOTE\n",
    "oversampler = SMOTE(k_neighbors=4)"
   ]
  },
  {
   "cell_type": "code",
   "execution_count": null,
   "metadata": {},
   "outputs": [],
   "source": [
    "\n",
    "model = make_model(model_name = 'test_model', classifier=clf, oversampler = oversampler, train_data = x, label=y)\n",
    "\n",
    "# Validate model\n",
    "model.validate(save_predictions=True, multiprocessing=True, k_fold=20)\n",
    "\n",
    "# Print validation result\n",
    "print(\"Confusion Matrix: \")\n",
    "print(model.validation_score['class_labels'])\n",
    "print(model.validation_score['confusion_matrix'])\n",
    "print(\"Overall Scores: \")\n",
    "print(model.validation_score['overall_scores'])\n",
    "print(\"Class-Wise scores: \")\n",
    "print(model.validation_score['class_wise_scores'])\n",
    "\n",
    "# Once satisfied with the mdoel performance\n",
    "# train the mdoel on entire training dataset\n",
    "model.train()\n",
    "\n",
    "# save the mdoel\n",
    "model.save('model_filename.joblib')"
   ]
  }
 ],
 "metadata": {
  "kernelspec": {
   "display_name": "Python 3.6.9 64-bit",
   "language": "python",
   "name": "python3"
  },
  "language_info": {
   "codemirror_mode": {
    "name": "ipython",
    "version": 3
   },
   "file_extension": ".py",
   "mimetype": "text/x-python",
   "name": "python",
   "nbconvert_exporter": "python",
   "pygments_lexer": "ipython3",
   "version": "3.6.9"
  },
  "orig_nbformat": 4,
  "vscode": {
   "interpreter": {
    "hash": "31f2aee4e71d21fbe5cf8b01ff0e069b9275f58929596ceb00d14d90e3e16cd6"
   }
  }
 },
 "nbformat": 4,
 "nbformat_minor": 2
}
